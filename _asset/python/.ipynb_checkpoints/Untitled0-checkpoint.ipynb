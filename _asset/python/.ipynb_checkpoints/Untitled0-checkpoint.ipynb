{
 "metadata": {
  "name": "",
  "signature": "sha256:25615d70dfbe503c9c30c073032ffee53debab19444689250535255898253f23"
 },
 "nbformat": 3,
 "nbformat_minor": 0,
 "worksheets": []
}